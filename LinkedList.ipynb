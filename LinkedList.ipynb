{
 "cells": [
  {
   "cell_type": "code",
   "execution_count": 2,
   "metadata": {
    "collapsed": false
   },
   "outputs": [],
   "source": [
    "class node:\n",
    "    def init(self,value):\n",
    "        self.info=value\n",
    "        self.link=null\n",
    "        "
   ]
  },
  {
   "cell_type": "code",
   "execution_count": 15,
   "metadata": {
    "collapsed": false
   },
   "outputs": [],
   "source": [
    "class singlelinkedlist:\n",
    "    def init(self):\n",
    "        self.start=null\n",
    "    def displaylist():\n",
    "        if self.start is null:\n",
    "            print(\"List is empty\")\n",
    "        else:\n",
    "            p=self.start\n",
    "            while p is not null:\n",
    "                print(p.info,\"\",end='')\n",
    "                p=p.link\n",
    "                print()\n",
    "    def countnode():\n",
    "        if self.start is null:\n",
    "            print(\"List is empty\")\n",
    "        else:\n",
    "            p=self.start\n",
    "            n=0\n",
    "            while p is not null:\n",
    "                n+=1\n",
    "            p=p.link\n",
    "            print(n)\n",
    "    def search(self,x):\n",
    "        position=1\n",
    "        p=self.start\n",
    "        while p is not null:\n",
    "            if p.info==x:\n",
    "                print(x,\" is st position \",position)\n",
    "                return true\n",
    "            position+=1\n",
    "            p=p.link\n",
    "        else:\n",
    "            print(\"value not found\")\n",
    "            return false\n",
    "    def insertbeggin(self,data):\n",
    "        temp=node(data)\n",
    "        temp.link=self.start\n",
    "        self.start=temp\n",
    "        \n",
    "    def insertend(self,data):\n",
    "        temp=node(data)\n",
    "        p=self.start\n",
    "        while p.link is not null:\n",
    "            p=p.link\n",
    "        p.link=temp\n",
    "    def createlist(self):\n",
    "        n=int(input(\"Enter the number of nodes\"))\n",
    "        if n==0:\n",
    "            return\n",
    "        for i in range(n):\n",
    "            data=int(input(\"Enter the Data to be inserted\"))\n",
    "            self.insertend(data)\n",
    "      \n",
    "    \n",
    "        \n",
    "        \n",
    "          "
   ]
  },
  {
   "cell_type": "code",
   "execution_count": 4,
   "metadata": {
    "collapsed": false
   },
   "outputs": [
    {
     "ename": "AttributeError",
     "evalue": "type object 'list' has no attribute 'createlist'",
     "output_type": "error",
     "traceback": [
      "\u001b[0;31m---------------------------------------------------------------------------\u001b[0m",
      "\u001b[0;31mAttributeError\u001b[0m                            Traceback (most recent call last)",
      "\u001b[0;32m<ipython-input-4-975bfc111743>\u001b[0m in \u001b[0;36m<module>\u001b[0;34m()\u001b[0m\n\u001b[1;32m      1\u001b[0m \u001b[0mlis\u001b[0m\u001b[1;33m=\u001b[0m\u001b[0msinglelinkedlist\u001b[0m\u001b[1;33m(\u001b[0m\u001b[1;33m)\u001b[0m\u001b[1;33m\u001b[0m\u001b[0m\n\u001b[0;32m----> 2\u001b[0;31m \u001b[0mlist\u001b[0m\u001b[1;33m.\u001b[0m\u001b[0mcreatelist\u001b[0m\u001b[1;33m(\u001b[0m\u001b[1;33m)\u001b[0m\u001b[1;33m\u001b[0m\u001b[0m\n\u001b[0m",
      "\u001b[0;31mAttributeError\u001b[0m: type object 'list' has no attribute 'createlist'"
     ]
    }
   ],
   "source": [
    "lis=singlelinkedlist()\n",
    "list.createlist()"
   ]
  },
  {
   "cell_type": "code",
   "execution_count": null,
   "metadata": {
    "collapsed": true
   },
   "outputs": [],
   "source": []
  }
 ],
 "metadata": {
  "anaconda-cloud": {},
  "kernelspec": {
   "display_name": "Python [default]",
   "language": "python",
   "name": "python3"
  },
  "language_info": {
   "codemirror_mode": {
    "name": "ipython",
    "version": 3
   },
   "file_extension": ".py",
   "mimetype": "text/x-python",
   "name": "python",
   "nbconvert_exporter": "python",
   "pygments_lexer": "ipython3",
   "version": "3.5.2"
  }
 },
 "nbformat": 4,
 "nbformat_minor": 1
}
